{
 "cells": [
  {
   "cell_type": "code",
   "execution_count": 11,
   "id": "59447042-7de3-43b0-8151-eab271d58fc2",
   "metadata": {},
   "outputs": [
    {
     "name": "stdout",
     "output_type": "stream",
     "text": [
      "Defaulting to user installation because normal site-packages is not writeable\n",
      "Requirement already satisfied: dspy-ai in c:\\users\\mat\\appdata\\roaming\\python\\python312\\site-packages (2.5.0)\n",
      "Requirement already satisfied: backoff in c:\\users\\mat\\appdata\\roaming\\python\\python312\\site-packages (from dspy-ai) (2.2.1)\n",
      "Requirement already satisfied: datasets in c:\\users\\mat\\appdata\\roaming\\python\\python312\\site-packages (from dspy-ai) (2.20.0)\n",
      "Requirement already satisfied: joblib~=1.3 in c:\\users\\mat\\appdata\\roaming\\python\\python312\\site-packages (from dspy-ai) (1.3.2)\n",
      "Requirement already satisfied: litellm in c:\\users\\mat\\appdata\\roaming\\python\\python312\\site-packages (from dspy-ai) (1.48.0)\n",
      "Requirement already satisfied: openai in c:\\users\\mat\\appdata\\roaming\\python\\python312\\site-packages (from dspy-ai) (1.47.1)\n",
      "Requirement already satisfied: optuna in c:\\users\\mat\\appdata\\roaming\\python\\python312\\site-packages (from dspy-ai) (3.6.1)\n",
      "Requirement already satisfied: pandas in c:\\users\\mat\\appdata\\roaming\\python\\python312\\site-packages (from dspy-ai) (2.2.2)\n",
      "Requirement already satisfied: pydantic~=2.0 in c:\\users\\mat\\appdata\\roaming\\python\\python312\\site-packages (from dspy-ai) (2.8.2)\n",
      "Requirement already satisfied: regex in c:\\users\\mat\\appdata\\roaming\\python\\python312\\site-packages (from dspy-ai) (2024.7.24)\n",
      "Requirement already satisfied: requests in c:\\users\\mat\\appdata\\roaming\\python\\python312\\site-packages (from dspy-ai) (2.32.3)\n",
      "Requirement already satisfied: structlog in c:\\users\\mat\\appdata\\roaming\\python\\python312\\site-packages (from dspy-ai) (24.4.0)\n",
      "Requirement already satisfied: tqdm in c:\\users\\mat\\appdata\\roaming\\python\\python312\\site-packages (from dspy-ai) (4.66.4)\n",
      "Requirement already satisfied: ujson in c:\\users\\mat\\appdata\\roaming\\python\\python312\\site-packages (from dspy-ai) (5.10.0)\n",
      "Requirement already satisfied: httpx in c:\\users\\mat\\appdata\\roaming\\python\\python312\\site-packages (from dspy-ai) (0.27.0)\n",
      "Requirement already satisfied: magicattr~=0.1.6 in c:\\users\\mat\\appdata\\roaming\\python\\python312\\site-packages (from dspy-ai) (0.1.6)\n",
      "Requirement already satisfied: diskcache in c:\\users\\mat\\appdata\\roaming\\python\\python312\\site-packages (from dspy-ai) (5.6.3)\n",
      "Requirement already satisfied: annotated-types>=0.4.0 in c:\\users\\mat\\appdata\\roaming\\python\\python312\\site-packages (from pydantic~=2.0->dspy-ai) (0.7.0)\n",
      "Requirement already satisfied: pydantic-core==2.20.1 in c:\\users\\mat\\appdata\\roaming\\python\\python312\\site-packages (from pydantic~=2.0->dspy-ai) (2.20.1)\n",
      "Requirement already satisfied: typing-extensions>=4.6.1 in c:\\users\\mat\\appdata\\roaming\\python\\python312\\site-packages (from pydantic~=2.0->dspy-ai) (4.12.2)\n",
      "Requirement already satisfied: filelock in c:\\users\\mat\\appdata\\roaming\\python\\python312\\site-packages (from datasets->dspy-ai) (3.15.4)\n",
      "Requirement already satisfied: numpy>=1.17 in c:\\users\\mat\\appdata\\roaming\\python\\python312\\site-packages (from datasets->dspy-ai) (2.0.0)\n",
      "Requirement already satisfied: pyarrow>=15.0.0 in c:\\users\\mat\\appdata\\roaming\\python\\python312\\site-packages (from datasets->dspy-ai) (17.0.0)\n",
      "Requirement already satisfied: pyarrow-hotfix in c:\\users\\mat\\appdata\\roaming\\python\\python312\\site-packages (from datasets->dspy-ai) (0.6)\n",
      "Requirement already satisfied: dill<0.3.9,>=0.3.0 in c:\\users\\mat\\appdata\\roaming\\python\\python312\\site-packages (from datasets->dspy-ai) (0.3.8)\n",
      "Requirement already satisfied: xxhash in c:\\users\\mat\\appdata\\roaming\\python\\python312\\site-packages (from datasets->dspy-ai) (3.4.1)\n",
      "Requirement already satisfied: multiprocess in c:\\users\\mat\\appdata\\roaming\\python\\python312\\site-packages (from datasets->dspy-ai) (0.70.16)\n",
      "Requirement already satisfied: fsspec<=2024.5.0,>=2023.1.0 in c:\\users\\mat\\appdata\\roaming\\python\\python312\\site-packages (from fsspec[http]<=2024.5.0,>=2023.1.0->datasets->dspy-ai) (2024.5.0)\n",
      "Requirement already satisfied: aiohttp in c:\\users\\mat\\appdata\\roaming\\python\\python312\\site-packages (from datasets->dspy-ai) (3.9.5)\n",
      "Requirement already satisfied: huggingface-hub>=0.21.2 in c:\\users\\mat\\appdata\\roaming\\python\\python312\\site-packages (from datasets->dspy-ai) (0.24.2)\n",
      "Requirement already satisfied: packaging in c:\\install\\miniconda\\lib\\site-packages (from datasets->dspy-ai) (23.2)\n",
      "Requirement already satisfied: pyyaml>=5.1 in c:\\users\\mat\\appdata\\roaming\\python\\python312\\site-packages (from datasets->dspy-ai) (6.0.1)\n",
      "Requirement already satisfied: charset-normalizer<4,>=2 in c:\\install\\miniconda\\lib\\site-packages (from requests->dspy-ai) (2.0.4)\n",
      "Requirement already satisfied: idna<4,>=2.5 in c:\\install\\miniconda\\lib\\site-packages (from requests->dspy-ai) (3.7)\n",
      "Requirement already satisfied: urllib3<3,>=1.21.1 in c:\\install\\miniconda\\lib\\site-packages (from requests->dspy-ai) (2.1.0)\n",
      "Requirement already satisfied: certifi>=2017.4.17 in c:\\install\\miniconda\\lib\\site-packages (from requests->dspy-ai) (2024.8.30)\n",
      "Requirement already satisfied: colorama in c:\\install\\miniconda\\lib\\site-packages (from tqdm->dspy-ai) (0.4.6)\n",
      "Requirement already satisfied: anyio in c:\\users\\mat\\appdata\\roaming\\python\\python312\\site-packages (from httpx->dspy-ai) (4.4.0)\n",
      "Requirement already satisfied: httpcore==1.* in c:\\users\\mat\\appdata\\roaming\\python\\python312\\site-packages (from httpx->dspy-ai) (1.0.5)\n",
      "Requirement already satisfied: sniffio in c:\\users\\mat\\appdata\\roaming\\python\\python312\\site-packages (from httpx->dspy-ai) (1.3.1)\n",
      "Requirement already satisfied: h11<0.15,>=0.13 in c:\\users\\mat\\appdata\\roaming\\python\\python312\\site-packages (from httpcore==1.*->httpx->dspy-ai) (0.14.0)\n",
      "Requirement already satisfied: click in c:\\users\\mat\\appdata\\roaming\\python\\python312\\site-packages (from litellm->dspy-ai) (8.1.7)\n",
      "Requirement already satisfied: importlib-metadata>=6.8.0 in c:\\users\\mat\\appdata\\roaming\\python\\python312\\site-packages (from litellm->dspy-ai) (8.5.0)\n",
      "Requirement already satisfied: jinja2<4.0.0,>=3.1.2 in c:\\users\\mat\\appdata\\roaming\\python\\python312\\site-packages (from litellm->dspy-ai) (3.1.4)\n",
      "Requirement already satisfied: jsonschema<5.0.0,>=4.22.0 in c:\\users\\mat\\appdata\\roaming\\python\\python312\\site-packages (from litellm->dspy-ai) (4.23.0)\n",
      "Requirement already satisfied: python-dotenv>=0.2.0 in c:\\users\\mat\\appdata\\roaming\\python\\python312\\site-packages (from litellm->dspy-ai) (1.0.1)\n",
      "Requirement already satisfied: tiktoken>=0.7.0 in c:\\users\\mat\\appdata\\roaming\\python\\python312\\site-packages (from litellm->dspy-ai) (0.7.0)\n",
      "Requirement already satisfied: tokenizers in c:\\users\\mat\\appdata\\roaming\\python\\python312\\site-packages (from litellm->dspy-ai) (0.20.0)\n",
      "Requirement already satisfied: distro<2,>=1.7.0 in c:\\install\\miniconda\\lib\\site-packages (from openai->dspy-ai) (1.9.0)\n",
      "Requirement already satisfied: jiter<1,>=0.4.0 in c:\\users\\mat\\appdata\\roaming\\python\\python312\\site-packages (from openai->dspy-ai) (0.5.0)\n",
      "Requirement already satisfied: alembic>=1.5.0 in c:\\users\\mat\\appdata\\roaming\\python\\python312\\site-packages (from optuna->dspy-ai) (1.13.2)\n",
      "Requirement already satisfied: colorlog in c:\\users\\mat\\appdata\\roaming\\python\\python312\\site-packages (from optuna->dspy-ai) (6.8.2)\n",
      "Requirement already satisfied: sqlalchemy>=1.3.0 in c:\\users\\mat\\appdata\\roaming\\python\\python312\\site-packages (from optuna->dspy-ai) (2.0.31)\n",
      "Requirement already satisfied: python-dateutil>=2.8.2 in c:\\users\\mat\\appdata\\roaming\\python\\python312\\site-packages (from pandas->dspy-ai) (2.9.0.post0)\n",
      "Requirement already satisfied: pytz>=2020.1 in c:\\users\\mat\\appdata\\roaming\\python\\python312\\site-packages (from pandas->dspy-ai) (2024.1)\n",
      "Requirement already satisfied: tzdata>=2022.7 in c:\\users\\mat\\appdata\\roaming\\python\\python312\\site-packages (from pandas->dspy-ai) (2024.1)\n",
      "Requirement already satisfied: Mako in c:\\users\\mat\\appdata\\roaming\\python\\python312\\site-packages (from alembic>=1.5.0->optuna->dspy-ai) (1.3.5)\n",
      "Requirement already satisfied: aiosignal>=1.1.2 in c:\\users\\mat\\appdata\\roaming\\python\\python312\\site-packages (from aiohttp->datasets->dspy-ai) (1.3.1)\n",
      "Requirement already satisfied: attrs>=17.3.0 in c:\\users\\mat\\appdata\\roaming\\python\\python312\\site-packages (from aiohttp->datasets->dspy-ai) (23.2.0)\n",
      "Requirement already satisfied: frozenlist>=1.1.1 in c:\\users\\mat\\appdata\\roaming\\python\\python312\\site-packages (from aiohttp->datasets->dspy-ai) (1.4.1)\n",
      "Requirement already satisfied: multidict<7.0,>=4.5 in c:\\users\\mat\\appdata\\roaming\\python\\python312\\site-packages (from aiohttp->datasets->dspy-ai) (6.0.5)\n",
      "Requirement already satisfied: yarl<2.0,>=1.0 in c:\\users\\mat\\appdata\\roaming\\python\\python312\\site-packages (from aiohttp->datasets->dspy-ai) (1.9.4)\n",
      "Requirement already satisfied: zipp>=3.20 in c:\\users\\mat\\appdata\\roaming\\python\\python312\\site-packages (from importlib-metadata>=6.8.0->litellm->dspy-ai) (3.20.2)\n",
      "Requirement already satisfied: MarkupSafe>=2.0 in c:\\users\\mat\\appdata\\roaming\\python\\python312\\site-packages (from jinja2<4.0.0,>=3.1.2->litellm->dspy-ai) (2.1.5)\n",
      "Requirement already satisfied: jsonschema-specifications>=2023.03.6 in c:\\users\\mat\\appdata\\roaming\\python\\python312\\site-packages (from jsonschema<5.0.0,>=4.22.0->litellm->dspy-ai) (2023.12.1)\n",
      "Requirement already satisfied: referencing>=0.28.4 in c:\\users\\mat\\appdata\\roaming\\python\\python312\\site-packages (from jsonschema<5.0.0,>=4.22.0->litellm->dspy-ai) (0.35.1)\n",
      "Requirement already satisfied: rpds-py>=0.7.1 in c:\\users\\mat\\appdata\\roaming\\python\\python312\\site-packages (from jsonschema<5.0.0,>=4.22.0->litellm->dspy-ai) (0.20.0)\n",
      "Requirement already satisfied: six>=1.5 in c:\\users\\mat\\appdata\\roaming\\python\\python312\\site-packages (from python-dateutil>=2.8.2->pandas->dspy-ai) (1.16.0)\n",
      "Requirement already satisfied: greenlet!=0.4.17 in c:\\users\\mat\\appdata\\roaming\\python\\python312\\site-packages (from sqlalchemy>=1.3.0->optuna->dspy-ai) (3.0.3)\n"
     ]
    }
   ],
   "source": [
    "!pip install dspy-ai"
   ]
  },
  {
   "cell_type": "code",
   "execution_count": 12,
   "id": "3feb4bbf-7767-4ca7-8142-86f41b0f5099",
   "metadata": {},
   "outputs": [],
   "source": [
    "# 导入包\n",
    "import json\n",
    "import dspy\n",
    "import ast"
   ]
  },
  {
   "cell_type": "code",
   "execution_count": 13,
   "id": "487338d1-8fbe-41a2-ad21-fd9d982ad229",
   "metadata": {},
   "outputs": [],
   "source": [
    "# 设置模型\n",
    "\n",
    "lm = dspy.LM('ollama/qwen2.5:3b', api_base=\"http://192.168.1.131:11434\")\n",
    "dspy.configure(lm=lm)"
   ]
  },
  {
   "cell_type": "code",
   "execution_count": 14,
   "id": "4f53b76e-a49f-4d88-aea0-c0f70bb39ad4",
   "metadata": {},
   "outputs": [],
   "source": [
    "# 创建签名类\n",
    "\n",
    "# class InitializeInventory(dspy.Signature):\n",
    "#     \"\"\"初始化库存的签名\"\"\"\n",
    "#     inventory_info = dspy.OutputField(desc=\"商品和库存信息\")\n",
    "\n",
    "class SelectProduct(dspy.Signature):\n",
    "    \"\"\"选择商品的签名\"\"\"\n",
    "    available_products = dspy.InputField(desc=\"可用商品列表\")\n",
    "    product_number = dspy.InputField(desc=\"用户选择的商品编号\")\n",
    "    selected_product = dspy.OutputField(desc=\"用户选择的商品\")\n",
    "    product_price = dspy.OutputField(desc=\"商品价格\")\n",
    "\n",
    "class ProcessPayment(dspy.Signature):\n",
    "    \"\"\"处理支付的签名\"\"\"\n",
    "    selected_product = dspy.InputField(desc=\"用户选择的商品\")\n",
    "    payment_amount = dspy.InputField(desc=\"用户支付的金额\")\n",
    "    payment_status = dspy.OutputField(desc=\"支付状态\")\n",
    "\n",
    "class CheckInventory(dspy.Signature):\n",
    "    \"\"\"检查库存并更新的签名\"\"\"\n",
    "    selected_product = dspy.InputField(desc=\"用户选择的商品\")\n",
    "    payment_status = dspy.InputField(desc=\"支付状态\")\n",
    "    inventory_info = dspy.InputField(desc=\"目前的商品和库存信息\")\n",
    "    updated_inventory = dspy.OutputField(desc=\"根据支付状态和用户选择的商品更新后的商品和库存信息\")\n",
    "    stock_status = dspy.OutputField(desc=\"库存更新状态\")"
   ]
  },
  {
   "cell_type": "code",
   "execution_count": 15,
   "id": "b15be210-4f31-4d90-88ff-865f1227026f",
   "metadata": {},
   "outputs": [],
   "source": [
    "# 创建模块\n",
    "\n",
    "class VendingMachineRolePlay(dspy.Module):\n",
    "    def __init__(self):\n",
    "        super().__init__()\n",
    "        self.inventory = {\n",
    "            \"饮料\": {\"price\": 5, \"stock\": 10},\n",
    "            \"小吃\": {\"price\": 10, \"stock\": 5},\n",
    "            \"糖果\": {\"price\": 3, \"stock\": 20},\n",
    "        }\n",
    "        # self.initialize_inventory = dspy.ChainOfThought(InitializeInventory)\n",
    "        self.select_product = dspy.ChainOfThought(SelectProduct)\n",
    "        self.process_payment = dspy.ChainOfThought(ProcessPayment)\n",
    "        self.check_inventory = dspy.ChainOfThought(CheckInventory)\n",
    "\n",
    "    def forward(self, product_number=None, payment_amount=None):\n",
    "        available_products = self.inventory\n",
    "        \n",
    "        if product_number is not None:\n",
    "            selected_info = self.select_product(available_products=available_products, product_number=product_number)\n",
    "            print(\"数据:\", selected_info)\n",
    "            selected_product = selected_info.selected_product\n",
    "            product_price = selected_info.product_price\n",
    "            \n",
    "            if selected_product and available_products[selected_product][\"stock\"] > 0:\n",
    "                if payment_amount is not None:\n",
    "                    payment_result = self.process_payment(selected_product=self.inventory[selected_product], payment_amount=payment_amount)\n",
    "                    print(\"数据2:\", payment_result)\n",
    "                    payment_status = payment_result.payment_status\n",
    "                    \n",
    "                    # 检查并更新库存\n",
    "                    inventory_result = self.check_inventory(selected_product=selected_product, payment_status=payment_status, inventory_info=self.inventory)\n",
    "                    print(\"数据3:\", inventory_result)\n",
    "\n",
    "                    # 更新本地库存\n",
    "                    self.inventory = ast.literal_eval(inventory_result.updated_inventory)\n",
    "                    \n",
    "                    return dspy.Prediction(selected_product=selected_product, payment_status=payment_status, stock_status=inventory_result.stock_status, product_price=product_price)\n",
    "                else:\n",
    "                    return dspy.Prediction(selected_product=selected_product, payment_status=\"请支付相应金额\", stock_status=None, product_price=product_price)\n",
    "            else:\n",
    "                return dspy.Prediction(selected_product=None, payment_status=\"商品缺货\", stock_status=None, product_price=None)"
   ]
  },
  {
   "cell_type": "code",
   "execution_count": 16,
   "id": "5f9729f0-e780-4e56-86d7-d9622da5d839",
   "metadata": {},
   "outputs": [],
   "source": [
    "# 创建数据集\n",
    "\n",
    "products = {\n",
    "    \"饮料\": {\"price\": 5, \"stock\": 10},\n",
    "    \"小吃\": {\"price\": 10, \"stock\": 5},\n",
    "    \"糖果\": {\"price\": 3, \"stock\": 20},\n",
    "}\n",
    "\n",
    "trainset_select_product = [\n",
    "    dspy.Example(\n",
    "        available_products=example[\"inputs\"][\"available_products\"],\n",
    "        product_number=example[\"inputs\"][\"product_number\"],\n",
    "        selected_product=example[\"outputs\"][\"selected_product\"],\n",
    "        product_price=example[\"outputs\"][\"product_price\"]\n",
    "    ).with_inputs(\"available_products\", \"product_number\")\n",
    "    for example in [\n",
    "        {\n",
    "            \"inputs\": {\n",
    "                \"available_products\": products,\n",
    "                \"product_number\": \"糖果\"\n",
    "            },\n",
    "            \"outputs\": {\n",
    "                \"selected_product\": \"糖果\",\n",
    "                \"product_price\": \"3\"\n",
    "            }\n",
    "        },\n",
    "        {\n",
    "            \"inputs\": {\n",
    "                \"available_products\": products,\n",
    "                \"product_number\": \"饮料\"\n",
    "            },\n",
    "            \"outputs\": {\n",
    "                \"selected_product\": \"饮料\",\n",
    "                \"product_price\": \"5\"\n",
    "            }\n",
    "        },\n",
    "        {\n",
    "            \"inputs\": {\n",
    "                \"available_products\": products,\n",
    "                \"product_number\": \"小吃\"\n",
    "            },\n",
    "            \"outputs\": {\n",
    "                \"selected_product\": \"小吃\",\n",
    "                \"product_price\": \"10\"\n",
    "            }\n",
    "        }\n",
    "    ]\n",
    "]\n",
    "\n",
    "trainset_process_payment = [\n",
    "    dspy.Example(\n",
    "        selected_product=example[\"inputs\"][\"selected_product\"],\n",
    "        payment_amount=example[\"inputs\"][\"payment_amount\"],\n",
    "        payment_status=example[\"outputs\"][\"payment_status\"]\n",
    "    ).with_inputs(\"selected_product\", \"payment_amount\")\n",
    "    for example in [\n",
    "        {\n",
    "            \"inputs\": {\n",
    "                \"selected_product\": products[\"糖果\"],\n",
    "                \"payment_amount\": \"3元\"\n",
    "            },\n",
    "            \"outputs\": {\n",
    "                \"payment_status\": \"支付成功\"\n",
    "            }\n",
    "        },\n",
    "        {\n",
    "            \"inputs\": {\n",
    "                \"selected_product\": products[\"饮料\"],\n",
    "                \"payment_amount\": \"5元\"\n",
    "            },\n",
    "            \"outputs\": {\n",
    "                \"payment_status\": \"支付成功\"\n",
    "            }\n",
    "        },\n",
    "        {\n",
    "            \"inputs\": {\n",
    "                \"selected_product\": products[\"小吃\"],\n",
    "                \"payment_amount\": \"10元\"\n",
    "            },\n",
    "            \"outputs\": {\n",
    "                \"payment_status\": \"支付成功\"\n",
    "            }\n",
    "        }\n",
    "    ]\n",
    "]\n",
    "\n",
    "\n",
    "trainset_check_inventory = [\n",
    "    dspy.Example(\n",
    "        selected_product=example[\"inputs\"][\"selected_product\"],\n",
    "        payment_status=example[\"inputs\"][\"payment_status\"],\n",
    "        inventory_info=example[\"inputs\"][\"inventory_info\"],\n",
    "        updated_inventory=example[\"outputs\"][\"updated_inventory\"],\n",
    "        stock_status=example[\"outputs\"][\"stock_status\"]\n",
    "    ).with_inputs(\"selected_product\", \"payment_status\", \"inventory_info\")\n",
    "    for example in [\n",
    "        {\n",
    "            \"inputs\": {\n",
    "                \"selected_product\": \"糖果\",\n",
    "                \"payment_status\": \"支付成功\",\n",
    "                \"inventory_info\": \"{'饮料': {'stock': 10}, '小吃': {'stock': 5}, '糖果': {'stock': 20}}\"\n",
    "            },\n",
    "            \"outputs\": {\n",
    "                \"updated_inventory\": \"{'饮料': {'stock': 10}, '小吃': {'stock': 5}, '糖果': {'stock': 19}}\",\n",
    "                \"stock_status\": \"库存更新成功\"\n",
    "            }\n",
    "        },\n",
    "        {\n",
    "            \"inputs\": {\n",
    "                \"selected_product\": \"饮料\",\n",
    "                \"payment_status\": \"支付成功\",\n",
    "                \"inventory_info\": \"{'饮料': {'stock': 10}, '小吃': {'stock': 5}, '糖果': {'stock': 20}}\"\n",
    "            },\n",
    "            \"outputs\": {\n",
    "                \"updated_inventory\": \"{'饮料': {'stock': 9}, '小吃': {'stock': 5}, '糖果': {'stock': 20}}\",\n",
    "                \"stock_status\": \"库存更新成功\"\n",
    "            }\n",
    "        }\n",
    "    ]\n",
    "]"
   ]
  },
  {
   "cell_type": "code",
   "execution_count": 17,
   "id": "75ea0b95-1cc8-4b75-8e48-77f5618dd843",
   "metadata": {},
   "outputs": [],
   "source": [
    "# 划分数据集\n",
    "from dspy.datasets import DataLoader\n",
    "dl = DataLoader()\n",
    "\n",
    "# 划分数据集\n",
    "splits_select_product = dl.train_test_split(trainset_select_product, train_size=0.8)\n",
    "splits_process_payment = dl.train_test_split(trainset_process_payment, train_size=0.8)\n",
    "splits_check_inventory = dl.train_test_split(trainset_check_inventory, train_size=0.8)\n",
    "\n",
    "trainset_select_product = splits_select_product['train']\n",
    "devset_select_product = splits_select_product['test']\n",
    "trainset_process_payment = splits_process_payment['train']\n",
    "devset_process_payment = splits_process_payment['test']\n",
    "trainset_check_inventory = splits_check_inventory['train']\n",
    "devset_check_inventory = splits_check_inventory['test']"
   ]
  },
  {
   "cell_type": "code",
   "execution_count": 18,
   "id": "47efc825-2437-4308-b550-f91fd7634c0b",
   "metadata": {},
   "outputs": [
    {
     "name": "stdout",
     "output_type": "stream",
     "text": [
      "Going to sample between 1 and 4 traces per predictor.\n",
      "Will attempt to bootstrap 10 candidate sets.\n",
      "Going to sample between 1 and 4 traces per predictor.\n",
      "Will attempt to bootstrap 10 candidate sets.\n",
      "Going to sample between 1 and 4 traces per predictor.\n",
      "Will attempt to bootstrap 10 candidate sets.\n"
     ]
    },
    {
     "name": "stderr",
     "output_type": "stream",
     "text": [
      "Average Metric: 1 / 1  (100.0): 100%|███████████████████████████████████████████████████| 1/1 [00:00<00:00, 496.90it/s]\n"
     ]
    },
    {
     "name": "stdout",
     "output_type": "stream",
     "text": [
      "New best score: 100.0 for seed -3\n",
      "Scores so far: [100.0]\n",
      "Best score so far: 100.0\n"
     ]
    },
    {
     "name": "stderr",
     "output_type": "stream",
     "text": [
      "Average Metric: 1 / 1  (100.0): 100%|████████████████████████████████████████████████████| 1/1 [00:04<00:00,  4.75s/it]\n"
     ]
    },
    {
     "name": "stdout",
     "output_type": "stream",
     "text": [
      "Scores so far: [100.0, 100.0]\n",
      "Best score so far: 100.0\n"
     ]
    },
    {
     "name": "stderr",
     "output_type": "stream",
     "text": [
      "100%|███████████████████████████████████████████████████████████████████████████████████| 2/2 [00:00<00:00, 248.75it/s]\n"
     ]
    },
    {
     "name": "stdout",
     "output_type": "stream",
     "text": [
      "Bootstrapped 2 full traces after 2 examples in round 0.\n"
     ]
    },
    {
     "name": "stderr",
     "output_type": "stream",
     "text": [
      "Average Metric: 1 / 1  (100.0): 100%|███████████████████████████████████████████████████| 1/1 [00:00<00:00, 129.94it/s]\n"
     ]
    },
    {
     "name": "stdout",
     "output_type": "stream",
     "text": [
      "Scores so far: [100.0, 100.0, 100.0]\n",
      "Best score so far: 100.0\n"
     ]
    },
    {
     "name": "stderr",
     "output_type": "stream",
     "text": [
      "100%|██████████████████████████████████████████████████████████████████████████████████| 2/2 [00:00<00:00, 1942.71it/s]\n"
     ]
    },
    {
     "name": "stdout",
     "output_type": "stream",
     "text": [
      "Bootstrapped 2 full traces after 2 examples in round 0.\n"
     ]
    },
    {
     "name": "stderr",
     "output_type": "stream",
     "text": [
      "Average Metric: 1 / 1  (100.0): 100%|███████████████████████████████████████████████████| 1/1 [00:00<00:00, 848.53it/s]\n"
     ]
    },
    {
     "name": "stdout",
     "output_type": "stream",
     "text": [
      "Scores so far: [100.0, 100.0, 100.0, 100.0]\n",
      "Best score so far: 100.0\n"
     ]
    },
    {
     "name": "stderr",
     "output_type": "stream",
     "text": [
      "100%|██████████████████████████████████████████████████████████████████████████████████| 2/2 [00:00<00:00, 1901.75it/s]\n"
     ]
    },
    {
     "name": "stdout",
     "output_type": "stream",
     "text": [
      "Bootstrapped 2 full traces after 2 examples in round 0.\n"
     ]
    },
    {
     "name": "stderr",
     "output_type": "stream",
     "text": [
      "Average Metric: 1 / 1  (100.0): 100%|███████████████████████████████████████████████████| 1/1 [00:00<00:00, 319.32it/s]\n"
     ]
    },
    {
     "name": "stdout",
     "output_type": "stream",
     "text": [
      "Scores so far: [100.0, 100.0, 100.0, 100.0, 100.0]\n",
      "Best score so far: 100.0\n"
     ]
    },
    {
     "name": "stderr",
     "output_type": "stream",
     "text": [
      " 50%|██████████████████████████████████████████████                                              | 1/2 [00:00<?, ?it/s]\n"
     ]
    },
    {
     "name": "stdout",
     "output_type": "stream",
     "text": [
      "Bootstrapped 1 full traces after 2 examples in round 0.\n"
     ]
    },
    {
     "name": "stderr",
     "output_type": "stream",
     "text": [
      "Average Metric: 1 / 1  (100.0): 100%|████████████████████████████████████████████████████| 1/1 [00:01<00:00,  1.11s/it]\n"
     ]
    },
    {
     "name": "stdout",
     "output_type": "stream",
     "text": [
      "Scores so far: [100.0, 100.0, 100.0, 100.0, 100.0, 100.0]\n",
      "Best score so far: 100.0\n"
     ]
    },
    {
     "name": "stderr",
     "output_type": "stream",
     "text": [
      "100%|██████████████████████████████████████████████████████████████████████████████████| 2/2 [00:00<00:00, 1965.01it/s]\n"
     ]
    },
    {
     "name": "stdout",
     "output_type": "stream",
     "text": [
      "Bootstrapped 2 full traces after 2 examples in round 0.\n"
     ]
    },
    {
     "name": "stderr",
     "output_type": "stream",
     "text": [
      "Average Metric: 1 / 1  (100.0): 100%|███████████████████████████████████████████████████| 1/1 [00:00<00:00, 428.30it/s]\n"
     ]
    },
    {
     "name": "stdout",
     "output_type": "stream",
     "text": [
      "Scores so far: [100.0, 100.0, 100.0, 100.0, 100.0, 100.0, 100.0]\n",
      "Best score so far: 100.0\n"
     ]
    },
    {
     "name": "stderr",
     "output_type": "stream",
     "text": [
      "100%|██████████████████████████████████████████████████████████████████████████████████| 2/2 [00:00<00:00, 1874.55it/s]\n"
     ]
    },
    {
     "name": "stdout",
     "output_type": "stream",
     "text": [
      "Bootstrapped 2 full traces after 2 examples in round 0.\n"
     ]
    },
    {
     "name": "stderr",
     "output_type": "stream",
     "text": [
      "Average Metric: 1 / 1  (100.0): 100%|███████████████████████████████████████████████████| 1/1 [00:00<00:00, 993.68it/s]\n"
     ]
    },
    {
     "name": "stdout",
     "output_type": "stream",
     "text": [
      "Scores so far: [100.0, 100.0, 100.0, 100.0, 100.0, 100.0, 100.0, 100.0]\n",
      "Best score so far: 100.0\n"
     ]
    },
    {
     "name": "stderr",
     "output_type": "stream",
     "text": [
      "100%|██████████████████████████████████████████████████████████████████████████████████| 2/2 [00:00<00:00, 1994.44it/s]\n"
     ]
    },
    {
     "name": "stdout",
     "output_type": "stream",
     "text": [
      "Bootstrapped 2 full traces after 2 examples in round 0.\n"
     ]
    },
    {
     "name": "stderr",
     "output_type": "stream",
     "text": [
      "Average Metric: 1 / 1  (100.0): 100%|███████████████████████████████████████████████████| 1/1 [00:00<00:00, 496.48it/s]\n"
     ]
    },
    {
     "name": "stdout",
     "output_type": "stream",
     "text": [
      "Scores so far: [100.0, 100.0, 100.0, 100.0, 100.0, 100.0, 100.0, 100.0, 100.0]\n",
      "Best score so far: 100.0\n"
     ]
    },
    {
     "name": "stderr",
     "output_type": "stream",
     "text": [
      " 50%|█████████████████████████████████████████▌                                         | 1/2 [00:00<00:00, 987.13it/s]\n"
     ]
    },
    {
     "name": "stdout",
     "output_type": "stream",
     "text": [
      "Bootstrapped 1 full traces after 2 examples in round 0.\n"
     ]
    },
    {
     "name": "stderr",
     "output_type": "stream",
     "text": [
      "Average Metric: 1 / 1  (100.0): 100%|███████████████████████████████████████████████████| 1/1 [00:00<00:00, 997.93it/s]\n"
     ]
    },
    {
     "name": "stdout",
     "output_type": "stream",
     "text": [
      "Scores so far: [100.0, 100.0, 100.0, 100.0, 100.0, 100.0, 100.0, 100.0, 100.0, 100.0]\n",
      "Best score so far: 100.0\n"
     ]
    },
    {
     "name": "stderr",
     "output_type": "stream",
     "text": [
      "100%|██████████████████████████████████████████████████████████████████████████████████| 2/2 [00:00<00:00, 1982.65it/s]\n"
     ]
    },
    {
     "name": "stdout",
     "output_type": "stream",
     "text": [
      "Bootstrapped 2 full traces after 2 examples in round 0.\n"
     ]
    },
    {
     "name": "stderr",
     "output_type": "stream",
     "text": [
      "Average Metric: 1 / 1  (100.0): 100%|███████████████████████████████████████████████████| 1/1 [00:00<00:00, 491.02it/s]\n"
     ]
    },
    {
     "name": "stdout",
     "output_type": "stream",
     "text": [
      "Scores so far: [100.0, 100.0, 100.0, 100.0, 100.0, 100.0, 100.0, 100.0, 100.0, 100.0, 100.0]\n",
      "Best score so far: 100.0\n"
     ]
    },
    {
     "name": "stderr",
     "output_type": "stream",
     "text": [
      "100%|████████████████████████████████████████████████████████████████████████████████████████████| 2/2 [00:00<?, ?it/s]\n"
     ]
    },
    {
     "name": "stdout",
     "output_type": "stream",
     "text": [
      "Bootstrapped 2 full traces after 2 examples in round 0.\n"
     ]
    },
    {
     "name": "stderr",
     "output_type": "stream",
     "text": [
      "Average Metric: 1 / 1  (100.0): 100%|███████████████████████████████████████████████████| 1/1 [00:00<00:00, 466.24it/s]\n"
     ]
    },
    {
     "name": "stdout",
     "output_type": "stream",
     "text": [
      "Scores so far: [100.0, 100.0, 100.0, 100.0, 100.0, 100.0, 100.0, 100.0, 100.0, 100.0, 100.0, 100.0]\n",
      "Best score so far: 100.0\n"
     ]
    },
    {
     "name": "stderr",
     "output_type": "stream",
     "text": [
      "100%|██████████████████████████████████████████████████████████████████████████████████| 2/2 [00:00<00:00, 1970.08it/s]\n"
     ]
    },
    {
     "name": "stdout",
     "output_type": "stream",
     "text": [
      "Bootstrapped 2 full traces after 2 examples in round 0.\n"
     ]
    },
    {
     "name": "stderr",
     "output_type": "stream",
     "text": [
      "Average Metric: 1 / 1  (100.0): 100%|███████████████████████████████████████████████████| 1/1 [00:00<00:00, 978.38it/s]\n"
     ]
    },
    {
     "name": "stdout",
     "output_type": "stream",
     "text": [
      "Scores so far: [100.0, 100.0, 100.0, 100.0, 100.0, 100.0, 100.0, 100.0, 100.0, 100.0, 100.0, 100.0, 100.0]\n",
      "Best score so far: 100.0\n",
      "13 candidate programs found.\n"
     ]
    },
    {
     "name": "stderr",
     "output_type": "stream",
     "text": [
      "Average Metric: 0 / 1  (0.0): 100%|█████████████████████████████████████████████████████| 1/1 [00:00<00:00, 151.20it/s]\n"
     ]
    },
    {
     "name": "stdout",
     "output_type": "stream",
     "text": [
      "New best score: 0.0 for seed -3\n",
      "Scores so far: [0.0]\n",
      "Best score so far: 0.0\n"
     ]
    },
    {
     "name": "stderr",
     "output_type": "stream",
     "text": [
      "Average Metric: 1 / 1  (100.0): 100%|███████████████████████████████████████████████████| 1/1 [00:00<00:00, 198.75it/s]\n"
     ]
    },
    {
     "name": "stdout",
     "output_type": "stream",
     "text": [
      "New best score: 100.0 for seed -2\n",
      "Scores so far: [0.0, 100.0]\n",
      "Best score so far: 100.0\n"
     ]
    },
    {
     "name": "stderr",
     "output_type": "stream",
     "text": [
      "100%|███████████████████████████████████████████████████████████████████████████████████| 2/2 [00:00<00:00, 323.68it/s]\n"
     ]
    },
    {
     "name": "stdout",
     "output_type": "stream",
     "text": [
      "Bootstrapped 2 full traces after 2 examples in round 0.\n"
     ]
    },
    {
     "name": "stderr",
     "output_type": "stream",
     "text": [
      "Average Metric: 1 / 1  (100.0): 100%|███████████████████████████████████████████████████| 1/1 [00:00<00:00, 248.88it/s]\n"
     ]
    },
    {
     "name": "stdout",
     "output_type": "stream",
     "text": [
      "Scores so far: [0.0, 100.0, 100.0]\n",
      "Best score so far: 100.0\n"
     ]
    },
    {
     "name": "stderr",
     "output_type": "stream",
     "text": [
      "100%|██████████████████████████████████████████████████████████████████████████████████| 2/2 [00:00<00:00, 1989.24it/s]\n"
     ]
    },
    {
     "name": "stdout",
     "output_type": "stream",
     "text": [
      "Bootstrapped 2 full traces after 2 examples in round 0.\n"
     ]
    },
    {
     "name": "stderr",
     "output_type": "stream",
     "text": [
      "Average Metric: 1 / 1  (100.0): 100%|███████████████████████████████████████████████████| 1/1 [00:00<00:00, 494.38it/s]\n"
     ]
    },
    {
     "name": "stdout",
     "output_type": "stream",
     "text": [
      "Scores so far: [0.0, 100.0, 100.0, 100.0]\n",
      "Best score so far: 100.0\n"
     ]
    },
    {
     "name": "stderr",
     "output_type": "stream",
     "text": [
      "100%|████████████████████████████████████████████████████████████████████████████████████████████| 2/2 [00:00<?, ?it/s]\n"
     ]
    },
    {
     "name": "stdout",
     "output_type": "stream",
     "text": [
      "Bootstrapped 2 full traces after 2 examples in round 0.\n"
     ]
    },
    {
     "name": "stderr",
     "output_type": "stream",
     "text": [
      "Average Metric: 1 / 1  (100.0): 100%|███████████████████████████████████████████████████| 1/1 [00:00<00:00, 246.38it/s]\n"
     ]
    },
    {
     "name": "stdout",
     "output_type": "stream",
     "text": [
      "Scores so far: [0.0, 100.0, 100.0, 100.0, 100.0]\n",
      "Best score so far: 100.0\n"
     ]
    },
    {
     "name": "stderr",
     "output_type": "stream",
     "text": [
      " 50%|█████████████████████████████████████████▌                                         | 1/2 [00:00<00:00, 985.04it/s]\n"
     ]
    },
    {
     "name": "stdout",
     "output_type": "stream",
     "text": [
      "Bootstrapped 1 full traces after 2 examples in round 0.\n"
     ]
    },
    {
     "name": "stderr",
     "output_type": "stream",
     "text": [
      "Average Metric: 1 / 1  (100.0): 100%|███████████████████████████████████████████████████| 1/1 [00:00<00:00, 186.97it/s]\n"
     ]
    },
    {
     "name": "stdout",
     "output_type": "stream",
     "text": [
      "Scores so far: [0.0, 100.0, 100.0, 100.0, 100.0, 100.0]\n",
      "Best score so far: 100.0\n"
     ]
    },
    {
     "name": "stderr",
     "output_type": "stream",
     "text": [
      "100%|████████████████████████████████████████████████████████████████████████████████████████████| 2/2 [00:00<?, ?it/s]\n"
     ]
    },
    {
     "name": "stdout",
     "output_type": "stream",
     "text": [
      "Bootstrapped 2 full traces after 2 examples in round 0.\n"
     ]
    },
    {
     "name": "stderr",
     "output_type": "stream",
     "text": [
      "Average Metric: 1 / 1  (100.0): 100%|███████████████████████████████████████████████████| 1/1 [00:00<00:00, 468.64it/s]\n"
     ]
    },
    {
     "name": "stdout",
     "output_type": "stream",
     "text": [
      "Scores so far: [0.0, 100.0, 100.0, 100.0, 100.0, 100.0, 100.0]\n",
      "Best score so far: 100.0\n"
     ]
    },
    {
     "name": "stderr",
     "output_type": "stream",
     "text": [
      "100%|██████████████████████████████████████████████████████████████████████████████████| 2/2 [00:00<00:00, 1971.01it/s]\n"
     ]
    },
    {
     "name": "stdout",
     "output_type": "stream",
     "text": [
      "Bootstrapped 2 full traces after 2 examples in round 0.\n"
     ]
    },
    {
     "name": "stderr",
     "output_type": "stream",
     "text": [
      "Average Metric: 1 / 1  (100.0): 100%|███████████████████████████████████████████████████| 1/1 [00:00<00:00, 969.56it/s]\n"
     ]
    },
    {
     "name": "stdout",
     "output_type": "stream",
     "text": [
      "Scores so far: [0.0, 100.0, 100.0, 100.0, 100.0, 100.0, 100.0, 100.0]\n",
      "Best score so far: 100.0\n"
     ]
    },
    {
     "name": "stderr",
     "output_type": "stream",
     "text": [
      "100%|██████████████████████████████████████████████████████████████████████████████████| 2/2 [00:00<00:00, 1961.33it/s]\n"
     ]
    },
    {
     "name": "stdout",
     "output_type": "stream",
     "text": [
      "Bootstrapped 2 full traces after 2 examples in round 0.\n"
     ]
    },
    {
     "name": "stderr",
     "output_type": "stream",
     "text": [
      "Average Metric: 1 / 1  (100.0): 100%|███████████████████████████████████████████████████| 1/1 [00:00<00:00, 999.36it/s]\n"
     ]
    },
    {
     "name": "stdout",
     "output_type": "stream",
     "text": [
      "Scores so far: [0.0, 100.0, 100.0, 100.0, 100.0, 100.0, 100.0, 100.0, 100.0]\n",
      "Best score so far: 100.0\n"
     ]
    },
    {
     "name": "stderr",
     "output_type": "stream",
     "text": [
      " 50%|██████████████████████████████████████████████                                              | 1/2 [00:00<?, ?it/s]\n"
     ]
    },
    {
     "name": "stdout",
     "output_type": "stream",
     "text": [
      "Bootstrapped 1 full traces after 2 examples in round 0.\n"
     ]
    },
    {
     "name": "stderr",
     "output_type": "stream",
     "text": [
      "Average Metric: 1 / 1  (100.0): 100%|███████████████████████████████████████████████████| 1/1 [00:00<00:00, 960.01it/s]\n"
     ]
    },
    {
     "name": "stdout",
     "output_type": "stream",
     "text": [
      "Scores so far: [0.0, 100.0, 100.0, 100.0, 100.0, 100.0, 100.0, 100.0, 100.0, 100.0]\n",
      "Best score so far: 100.0\n"
     ]
    },
    {
     "name": "stderr",
     "output_type": "stream",
     "text": [
      "100%|██████████████████████████████████████████████████████████████████████████████████| 2/2 [00:00<00:00, 1978.91it/s]\n"
     ]
    },
    {
     "name": "stdout",
     "output_type": "stream",
     "text": [
      "Bootstrapped 2 full traces after 2 examples in round 0.\n"
     ]
    },
    {
     "name": "stderr",
     "output_type": "stream",
     "text": [
      "Average Metric: 1 / 1  (100.0): 100%|███████████████████████████████████████████████████| 1/1 [00:00<00:00, 490.22it/s]\n"
     ]
    },
    {
     "name": "stdout",
     "output_type": "stream",
     "text": [
      "Scores so far: [0.0, 100.0, 100.0, 100.0, 100.0, 100.0, 100.0, 100.0, 100.0, 100.0, 100.0]\n",
      "Best score so far: 100.0\n"
     ]
    },
    {
     "name": "stderr",
     "output_type": "stream",
     "text": [
      "100%|██████████████████████████████████████████████████████████████████████████████████| 2/2 [00:00<00:00, 1974.72it/s]\n"
     ]
    },
    {
     "name": "stdout",
     "output_type": "stream",
     "text": [
      "Bootstrapped 2 full traces after 2 examples in round 0.\n"
     ]
    },
    {
     "name": "stderr",
     "output_type": "stream",
     "text": [
      "Average Metric: 1 / 1  (100.0): 100%|███████████████████████████████████████████████████| 1/1 [00:00<00:00, 994.38it/s]\n"
     ]
    },
    {
     "name": "stdout",
     "output_type": "stream",
     "text": [
      "Scores so far: [0.0, 100.0, 100.0, 100.0, 100.0, 100.0, 100.0, 100.0, 100.0, 100.0, 100.0, 100.0]\n",
      "Best score so far: 100.0\n"
     ]
    },
    {
     "name": "stderr",
     "output_type": "stream",
     "text": [
      "100%|████████████████████████████████████████████████████████████████████████████████████████████| 2/2 [00:00<?, ?it/s]\n"
     ]
    },
    {
     "name": "stdout",
     "output_type": "stream",
     "text": [
      "Bootstrapped 2 full traces after 2 examples in round 0.\n"
     ]
    },
    {
     "name": "stderr",
     "output_type": "stream",
     "text": [
      "Average Metric: 1 / 1  (100.0): 100%|███████████████████████████████████████████████████| 1/1 [00:00<00:00, 988.06it/s]\n"
     ]
    },
    {
     "name": "stdout",
     "output_type": "stream",
     "text": [
      "Scores so far: [0.0, 100.0, 100.0, 100.0, 100.0, 100.0, 100.0, 100.0, 100.0, 100.0, 100.0, 100.0, 100.0]\n",
      "Best score so far: 100.0\n",
      "13 candidate programs found.\n"
     ]
    },
    {
     "name": "stderr",
     "output_type": "stream",
     "text": [
      "Average Metric: 0 / 1  (0.0): 100%|█████████████████████████████████████████████████████| 1/1 [00:00<00:00, 196.11it/s]\n"
     ]
    },
    {
     "name": "stdout",
     "output_type": "stream",
     "text": [
      "New best score: 0.0 for seed -3\n",
      "Scores so far: [0.0]\n",
      "Best score so far: 0.0\n"
     ]
    },
    {
     "name": "stderr",
     "output_type": "stream",
     "text": [
      "Average Metric: 1 / 1  (100.0): 100%|███████████████████████████████████████████████████| 1/1 [00:00<00:00, 249.94it/s]\n"
     ]
    },
    {
     "name": "stdout",
     "output_type": "stream",
     "text": [
      "New best score: 100.0 for seed -2\n",
      "Scores so far: [0.0, 100.0]\n",
      "Best score so far: 100.0\n"
     ]
    },
    {
     "name": "stderr",
     "output_type": "stream",
     "text": [
      "100%|███████████████████████████████████████████████████████████████████████████████████| 1/1 [00:00<00:00, 326.99it/s]\n"
     ]
    },
    {
     "name": "stdout",
     "output_type": "stream",
     "text": [
      "Bootstrapped 0 full traces after 1 examples in round 0.\n"
     ]
    },
    {
     "name": "stderr",
     "output_type": "stream",
     "text": [
      "Average Metric: 1 / 1  (100.0): 100%|███████████████████████████████████████████████████| 1/1 [00:00<00:00, 499.98it/s]\n"
     ]
    },
    {
     "name": "stdout",
     "output_type": "stream",
     "text": [
      "Scores so far: [0.0, 100.0, 100.0]\n",
      "Best score so far: 100.0\n"
     ]
    },
    {
     "name": "stderr",
     "output_type": "stream",
     "text": [
      "100%|████████████████████████████████████████████████████████████████████████████████████████████| 1/1 [00:00<?, ?it/s]\n"
     ]
    },
    {
     "name": "stdout",
     "output_type": "stream",
     "text": [
      "Bootstrapped 0 full traces after 1 examples in round 0.\n"
     ]
    },
    {
     "name": "stderr",
     "output_type": "stream",
     "text": [
      "Average Metric: 1 / 1  (100.0): 100%|███████████████████████████████████████████████████| 1/1 [00:00<00:00, 985.97it/s]\n"
     ]
    },
    {
     "name": "stdout",
     "output_type": "stream",
     "text": [
      "Scores so far: [0.0, 100.0, 100.0, 100.0]\n",
      "Best score so far: 100.0\n"
     ]
    },
    {
     "name": "stderr",
     "output_type": "stream",
     "text": [
      "100%|███████████████████████████████████████████████████████████████████████████████████| 1/1 [00:00<00:00, 982.50it/s]\n"
     ]
    },
    {
     "name": "stdout",
     "output_type": "stream",
     "text": [
      "Bootstrapped 0 full traces after 1 examples in round 0.\n"
     ]
    },
    {
     "name": "stderr",
     "output_type": "stream",
     "text": [
      "Average Metric: 1 / 1  (100.0): 100%|███████████████████████████████████████████████████| 1/1 [00:00<00:00, 493.39it/s]\n"
     ]
    },
    {
     "name": "stdout",
     "output_type": "stream",
     "text": [
      "Scores so far: [0.0, 100.0, 100.0, 100.0, 100.0]\n",
      "Best score so far: 100.0\n"
     ]
    },
    {
     "name": "stderr",
     "output_type": "stream",
     "text": [
      "100%|███████████████████████████████████████████████████████████████████████████████████| 1/1 [00:00<00:00, 982.04it/s]\n"
     ]
    },
    {
     "name": "stdout",
     "output_type": "stream",
     "text": [
      "Bootstrapped 0 full traces after 1 examples in round 0.\n"
     ]
    },
    {
     "name": "stderr",
     "output_type": "stream",
     "text": [
      "Average Metric: 1 / 1  (100.0): 100%|███████████████████████████████████████████████████| 1/1 [00:00<00:00, 475.60it/s]\n"
     ]
    },
    {
     "name": "stdout",
     "output_type": "stream",
     "text": [
      "Scores so far: [0.0, 100.0, 100.0, 100.0, 100.0, 100.0]\n",
      "Best score so far: 100.0\n"
     ]
    },
    {
     "name": "stderr",
     "output_type": "stream",
     "text": [
      "100%|███████████████████████████████████████████████████████████████████████████████████| 1/1 [00:00<00:00, 987.59it/s]\n"
     ]
    },
    {
     "name": "stdout",
     "output_type": "stream",
     "text": [
      "Bootstrapped 0 full traces after 1 examples in round 0.\n"
     ]
    },
    {
     "name": "stderr",
     "output_type": "stream",
     "text": [
      "Average Metric: 1 / 1  (100.0): 100%|███████████████████████████████████████████████████| 1/1 [00:00<00:00, 496.78it/s]\n"
     ]
    },
    {
     "name": "stdout",
     "output_type": "stream",
     "text": [
      "Scores so far: [0.0, 100.0, 100.0, 100.0, 100.0, 100.0, 100.0]\n",
      "Best score so far: 100.0\n"
     ]
    },
    {
     "name": "stderr",
     "output_type": "stream",
     "text": [
      "100%|███████████████████████████████████████████████████████████████████████████████████| 1/1 [00:00<00:00, 958.26it/s]\n"
     ]
    },
    {
     "name": "stdout",
     "output_type": "stream",
     "text": [
      "Bootstrapped 0 full traces after 1 examples in round 0.\n"
     ]
    },
    {
     "name": "stderr",
     "output_type": "stream",
     "text": [
      "Average Metric: 1 / 1  (100.0): 100%|███████████████████████████████████████████████████| 1/1 [00:00<00:00, 496.19it/s]\n"
     ]
    },
    {
     "name": "stdout",
     "output_type": "stream",
     "text": [
      "Scores so far: [0.0, 100.0, 100.0, 100.0, 100.0, 100.0, 100.0, 100.0]\n",
      "Best score so far: 100.0\n"
     ]
    },
    {
     "name": "stderr",
     "output_type": "stream",
     "text": [
      "100%|████████████████████████████████████████████████████████████████████████████████████████████| 1/1 [00:00<?, ?it/s]\n"
     ]
    },
    {
     "name": "stdout",
     "output_type": "stream",
     "text": [
      "Bootstrapped 0 full traces after 1 examples in round 0.\n"
     ]
    },
    {
     "name": "stderr",
     "output_type": "stream",
     "text": [
      "Average Metric: 1 / 1  (100.0): 100%|███████████████████████████████████████████████████| 1/1 [00:00<00:00, 990.16it/s]\n"
     ]
    },
    {
     "name": "stdout",
     "output_type": "stream",
     "text": [
      "Scores so far: [0.0, 100.0, 100.0, 100.0, 100.0, 100.0, 100.0, 100.0, 100.0]\n",
      "Best score so far: 100.0\n"
     ]
    },
    {
     "name": "stderr",
     "output_type": "stream",
     "text": [
      "100%|████████████████████████████████████████████████████████████████████████████████████████████| 1/1 [00:00<?, ?it/s]\n"
     ]
    },
    {
     "name": "stdout",
     "output_type": "stream",
     "text": [
      "Bootstrapped 0 full traces after 1 examples in round 0.\n"
     ]
    },
    {
     "name": "stderr",
     "output_type": "stream",
     "text": [
      "Average Metric: 1 / 1  (100.0): 100%|███████████████████████████████████████████████████| 1/1 [00:00<00:00, 936.02it/s]\n"
     ]
    },
    {
     "name": "stdout",
     "output_type": "stream",
     "text": [
      "Scores so far: [0.0, 100.0, 100.0, 100.0, 100.0, 100.0, 100.0, 100.0, 100.0, 100.0]\n",
      "Best score so far: 100.0\n"
     ]
    },
    {
     "name": "stderr",
     "output_type": "stream",
     "text": [
      "100%|███████████████████████████████████████████████████████████████████████████████████| 1/1 [00:00<00:00, 996.27it/s]\n"
     ]
    },
    {
     "name": "stdout",
     "output_type": "stream",
     "text": [
      "Bootstrapped 0 full traces after 1 examples in round 0.\n"
     ]
    },
    {
     "name": "stderr",
     "output_type": "stream",
     "text": [
      "Average Metric: 1 / 1  (100.0): 100%|███████████████████████████████████████████████████| 1/1 [00:00<00:00, 996.04it/s]\n"
     ]
    },
    {
     "name": "stdout",
     "output_type": "stream",
     "text": [
      "Scores so far: [0.0, 100.0, 100.0, 100.0, 100.0, 100.0, 100.0, 100.0, 100.0, 100.0, 100.0]\n",
      "Best score so far: 100.0\n"
     ]
    },
    {
     "name": "stderr",
     "output_type": "stream",
     "text": [
      "100%|████████████████████████████████████████████████████████████████████████████████████████████| 1/1 [00:00<?, ?it/s]\n"
     ]
    },
    {
     "name": "stdout",
     "output_type": "stream",
     "text": [
      "Bootstrapped 0 full traces after 1 examples in round 0.\n"
     ]
    },
    {
     "name": "stderr",
     "output_type": "stream",
     "text": [
      "Average Metric: 1 / 1  (100.0): 100%|███████████████████████████████████████████████████| 1/1 [00:00<00:00, 495.02it/s]\n"
     ]
    },
    {
     "name": "stdout",
     "output_type": "stream",
     "text": [
      "Scores so far: [0.0, 100.0, 100.0, 100.0, 100.0, 100.0, 100.0, 100.0, 100.0, 100.0, 100.0, 100.0]\n",
      "Best score so far: 100.0\n"
     ]
    },
    {
     "name": "stderr",
     "output_type": "stream",
     "text": [
      "100%|████████████████████████████████████████████████████████████████████████████████████████████| 1/1 [00:00<?, ?it/s]\n"
     ]
    },
    {
     "name": "stdout",
     "output_type": "stream",
     "text": [
      "Bootstrapped 0 full traces after 1 examples in round 0.\n"
     ]
    },
    {
     "name": "stderr",
     "output_type": "stream",
     "text": [
      "Average Metric: 1 / 1  (100.0): 100%|███████████████████████████████████████████████████| 1/1 [00:00<00:00, 990.86it/s]\n"
     ]
    },
    {
     "name": "stdout",
     "output_type": "stream",
     "text": [
      "Scores so far: [0.0, 100.0, 100.0, 100.0, 100.0, 100.0, 100.0, 100.0, 100.0, 100.0, 100.0, 100.0, 100.0]\n",
      "Best score so far: 100.0\n",
      "13 candidate programs found.\n"
     ]
    }
   ],
   "source": [
    "# 定义优化器 和 验证方法\n",
    "\n",
    "# 定义优化器配置\n",
    "config = dict(\n",
    "    max_bootstrapped_demos=4,\n",
    "    max_labeled_demos=4,\n",
    "    num_candidate_programs=10,\n",
    "    num_threads=4\n",
    ")\n",
    "from dspy.teleprompt import BootstrapFewShotWithRandomSearch\n",
    "\n",
    "def validate_select_product(example, pred, trace=None):\n",
    "    \"\"\"\n",
    "    验证选择商品的输出是否正确\n",
    "    \"\"\"\n",
    "    return (example.selected_product.lower() == pred.selected_product.lower() and\n",
    "            example.product_price == pred.product_price)\n",
    "\n",
    "def validate_process_payment(example, pred, trace=None):\n",
    "    \"\"\"\n",
    "    验证处理支付的输出是否正确\n",
    "    \"\"\"\n",
    "    return example.payment_status.lower() == pred.payment_status.lower()\n",
    "\n",
    "def validate_check_inventory(example, pred, trace=None):\n",
    "    \"\"\"\n",
    "    验证检查库存的输出是否正确\n",
    "    \"\"\"\n",
    "    return (example.updated_inventory == pred.updated_inventory and\n",
    "            example.stock_status.lower() == pred.stock_status.lower())\n",
    "\n",
    "\n",
    "#创建优化器实例\n",
    "optimizer_select_product = BootstrapFewShotWithRandomSearch(metric=validate_select_product, **config)\n",
    "optimizer_process_payment = BootstrapFewShotWithRandomSearch(metric=validate_process_payment, **config)\n",
    "optimizer_check_inventory = BootstrapFewShotWithRandomSearch(metric=validate_check_inventory, **config)\n",
    "\n",
    "# 优化选择商品的提示\n",
    "optimized_select_product = optimizer_select_product.compile(\n",
    "    student=VendingMachineRolePlay().select_product,\n",
    "    trainset=trainset_select_product,\n",
    "    valset=devset_select_product\n",
    ")\n",
    "\n",
    "# 优化处理支付的提示\n",
    "optimized_process_payment = optimizer_process_payment.compile(\n",
    "    student=VendingMachineRolePlay().process_payment,\n",
    "    trainset=trainset_process_payment,\n",
    "    valset=devset_process_payment\n",
    ")\n",
    "\n",
    "# 优化检查库存的提示\n",
    "optimized_check_inventory = optimizer_check_inventory.compile(\n",
    "    student=VendingMachineRolePlay().check_inventory,\n",
    "    trainset=trainset_check_inventory,\n",
    "    valset=devset_check_inventory\n",
    ")"
   ]
  },
  {
   "cell_type": "code",
   "execution_count": null,
   "id": "11377342-e3dd-49d2-9fe7-afb825fd09d6",
   "metadata": {},
   "outputs": [
    {
     "name": "stdout",
     "output_type": "stream",
     "text": [
      "\n",
      "欢迎光临，请选择商品：\n",
      "饮料 - 5元 (库存: 10)\n",
      "小吃 - 10元 (库存: 5)\n",
      "糖果 - 3元 (库存: 20)\n",
      "输入 'q' 退出购物\n"
     ]
    },
    {
     "name": "stdin",
     "output_type": "stream",
     "text": [
      "请输入商品编号： 糖果\n"
     ]
    },
    {
     "name": "stdout",
     "output_type": "stream",
     "text": [
      "数据: Prediction(\n",
      "    reasoning=\"用户选择了'糖果'，这是根据提供的可用商品列表中编号为'糖果'的商品进行选择的。\",\n",
      "    selected_product='糖果',\n",
      "    product_price='3'\n",
      ")\n",
      "选择的商品: 糖果\n",
      "支付状态: 请支付相应金额\n"
     ]
    },
    {
     "name": "stdin",
     "output_type": "stream",
     "text": [
      "请输入支付的金额 (3元)： 3元\n"
     ]
    },
    {
     "name": "stdout",
     "output_type": "stream",
     "text": [
      "数据: Prediction(\n",
      "    reasoning=\"用户选择了'糖果'，这是根据提供的可用商品列表中编号为'糖果'的商品进行选择的。\",\n",
      "    selected_product='糖果',\n",
      "    product_price='3'\n",
      ")\n",
      "数据2: Prediction(\n",
      "    reasoning='Not supplied for this particular example.',\n",
      "    payment_status='支付成功'\n",
      ")\n",
      "数据3: Prediction(\n",
      "    reasoning='用户支付成功购买了糖果，库存信息需要更新。',\n",
      "    updated_inventory=\"{'饮料': {'price': 5, 'stock': 10}, '小吃': {'price': 10, 'stock': 5}, '糖果': {'price': 3, 'stock': 19}}\",\n",
      "    stock_status='库存更新成功'\n",
      ")\n",
      "支付状态: 支付成功\n",
      "库存更新状态: 库存更新成功\n",
      "请取走您的商品。谢谢光临！\n",
      "\n",
      "\n",
      "\n",
      "\n",
      "System message:\n",
      "\n",
      "Your input fields are:\n",
      "1. `available_products` (str): 可用商品列表\n",
      "2. `product_number` (str): 用户选择的商品编号\n",
      "\n",
      "Your output fields are:\n",
      "1. `reasoning` (str)\n",
      "2. `selected_product` (str): 用户选择的商品\n",
      "3. `product_price` (str): 商品价格\n",
      "\n",
      "All interactions will be structured in the following way, with the appropriate values filled in.\n",
      "\n",
      "[[ ## available_products ## ]]\n",
      "{available_products}\n",
      "\n",
      "[[ ## product_number ## ]]\n",
      "{product_number}\n",
      "\n",
      "[[ ## reasoning ## ]]\n",
      "{reasoning}\n",
      "\n",
      "[[ ## selected_product ## ]]\n",
      "{selected_product}\n",
      "\n",
      "[[ ## product_price ## ]]\n",
      "{product_price}\n",
      "\n",
      "[[ ## completed ## ]]\n",
      "\n",
      "In adhering to this structure, your objective is: \n",
      "        选择商品的签名\n",
      "\n",
      "\n",
      "User message:\n",
      "\n",
      "[[ ## available_products ## ]]\n",
      "{'饮料': {'price': 5, 'stock': 10}, '小吃': {'price': 10, 'stock': 5}, '糖果': {'price': 3, 'stock': 20}}\n",
      "\n",
      "[[ ## product_number ## ]]\n",
      "糖果\n",
      "\n",
      "Respond with the corresponding output fields, starting with the field `reasoning`, then `selected_product`, then `product_price`, and then ending with the marker for `completed`.\n",
      "\n",
      "\n",
      "Response:\n",
      "\n",
      "[[ ## reasoning ## ]]\n",
      "用户选择了'糖果'，这是根据提供的可用商品列表中编号为'糖果'的商品进行选择的。\n",
      "\n",
      "[[ ## selected_product ## ]]\n",
      "糖果\n",
      "\n",
      "[[ ## product_price ## ]]\n",
      "3\n",
      "\n",
      "[[ ## completed ## ]]\n",
      "\n",
      "\n",
      "\n",
      "\n",
      "\n",
      "System message:\n",
      "\n",
      "Your input fields are:\n",
      "1. `selected_product` (str): 用户选择的商品\n",
      "2. `payment_amount` (str): 用户支付的金额\n",
      "\n",
      "Your output fields are:\n",
      "1. `reasoning` (str)\n",
      "2. `payment_status` (str): 支付状态\n",
      "\n",
      "All interactions will be structured in the following way, with the appropriate values filled in.\n",
      "\n",
      "[[ ## selected_product ## ]]\n",
      "{selected_product}\n",
      "\n",
      "[[ ## payment_amount ## ]]\n",
      "{payment_amount}\n",
      "\n",
      "[[ ## reasoning ## ]]\n",
      "{reasoning}\n",
      "\n",
      "[[ ## payment_status ## ]]\n",
      "{payment_status}\n",
      "\n",
      "[[ ## completed ## ]]\n",
      "\n",
      "In adhering to this structure, your objective is: \n",
      "        处理支付的签名\n",
      "\n",
      "\n",
      "User message:\n",
      "\n",
      "This is an example of the task, though some input or output fields are not supplied.\n",
      "\n",
      "[[ ## selected_product ## ]]\n",
      "{'price': 5, 'stock': 10}\n",
      "\n",
      "[[ ## payment_amount ## ]]\n",
      "5元\n",
      "\n",
      "Respond with the corresponding output fields, starting with the field `reasoning`, then `payment_status`, and then ending with the marker for `completed`.\n",
      "\n",
      "\n",
      "Assistant message:\n",
      "\n",
      "[[ ## reasoning ## ]]\n",
      "Not supplied for this particular example.\n",
      "\n",
      "[[ ## payment_status ## ]]\n",
      "支付成功\n",
      "\n",
      "[[ ## completed ## ]]\n",
      "\n",
      "\n",
      "User message:\n",
      "\n",
      "This is an example of the task, though some input or output fields are not supplied.\n",
      "\n",
      "[[ ## selected_product ## ]]\n",
      "{'price': 10, 'stock': 5}\n",
      "\n",
      "[[ ## payment_amount ## ]]\n",
      "10元\n",
      "\n",
      "Respond with the corresponding output fields, starting with the field `reasoning`, then `payment_status`, and then ending with the marker for `completed`.\n",
      "\n",
      "\n",
      "Assistant message:\n",
      "\n",
      "[[ ## reasoning ## ]]\n",
      "Not supplied for this particular example.\n",
      "\n",
      "[[ ## payment_status ## ]]\n",
      "支付成功\n",
      "\n",
      "[[ ## completed ## ]]\n",
      "\n",
      "\n",
      "User message:\n",
      "\n",
      "[[ ## selected_product ## ]]\n",
      "{'price': 3, 'stock': 20}\n",
      "\n",
      "[[ ## payment_amount ## ]]\n",
      "3元\n",
      "\n",
      "Respond with the corresponding output fields, starting with the field `reasoning`, then `payment_status`, and then ending with the marker for `completed`.\n",
      "\n",
      "\n",
      "Response:\n",
      "\n",
      "[[ ## reasoning ## ]]\n",
      "Not supplied for this particular example.\n",
      "\n",
      "[[ ## payment_status ## ]]\n",
      "支付成功\n",
      "\n",
      "[[ ## completed ## ]]\n",
      "\n",
      "\n",
      "\n",
      "\n",
      "\n",
      "System message:\n",
      "\n",
      "Your input fields are:\n",
      "1. `selected_product` (str): 用户选择的商品\n",
      "2. `payment_status` (str): 支付状态\n",
      "3. `inventory_info` (str): 目前的商品和库存信息\n",
      "\n",
      "Your output fields are:\n",
      "1. `reasoning` (str)\n",
      "2. `updated_inventory` (str): 根据支付状态和用户选择的商品更新后的商品和库存信息\n",
      "3. `stock_status` (str): 库存更新状态\n",
      "\n",
      "All interactions will be structured in the following way, with the appropriate values filled in.\n",
      "\n",
      "[[ ## selected_product ## ]]\n",
      "{selected_product}\n",
      "\n",
      "[[ ## payment_status ## ]]\n",
      "{payment_status}\n",
      "\n",
      "[[ ## inventory_info ## ]]\n",
      "{inventory_info}\n",
      "\n",
      "[[ ## reasoning ## ]]\n",
      "{reasoning}\n",
      "\n",
      "[[ ## updated_inventory ## ]]\n",
      "{updated_inventory}\n",
      "\n",
      "[[ ## stock_status ## ]]\n",
      "{stock_status}\n",
      "\n",
      "[[ ## completed ## ]]\n",
      "\n",
      "In adhering to this structure, your objective is: \n",
      "        检查库存并更新的签名\n",
      "\n",
      "\n",
      "User message:\n",
      "\n",
      "This is an example of the task, though some input or output fields are not supplied.\n",
      "\n",
      "[[ ## selected_product ## ]]\n",
      "饮料\n",
      "\n",
      "[[ ## payment_status ## ]]\n",
      "支付成功\n",
      "\n",
      "[[ ## inventory_info ## ]]\n",
      "{'饮料': {'stock': 10}, '小吃': {'stock': 5}, '糖果': {'stock': 20}}\n",
      "\n",
      "Respond with the corresponding output fields, starting with the field `reasoning`, then `updated_inventory`, then `stock_status`, and then ending with the marker for `completed`.\n",
      "\n",
      "\n",
      "Assistant message:\n",
      "\n",
      "[[ ## reasoning ## ]]\n",
      "Not supplied for this particular example.\n",
      "\n",
      "[[ ## updated_inventory ## ]]\n",
      "{'饮料': {'stock': 9}, '小吃': {'stock': 5}, '糖果': {'stock': 20}}\n",
      "\n",
      "[[ ## stock_status ## ]]\n",
      "库存更新成功\n",
      "\n",
      "[[ ## completed ## ]]\n",
      "\n",
      "\n",
      "User message:\n",
      "\n",
      "[[ ## selected_product ## ]]\n",
      "糖果\n",
      "\n",
      "[[ ## payment_status ## ]]\n",
      "支付成功\n",
      "\n",
      "[[ ## inventory_info ## ]]\n",
      "{'饮料': {'price': 5, 'stock': 10}, '小吃': {'price': 10, 'stock': 5}, '糖果': {'price': 3, 'stock': 20}}\n",
      "\n",
      "Respond with the corresponding output fields, starting with the field `reasoning`, then `updated_inventory`, then `stock_status`, and then ending with the marker for `completed`.\n",
      "\n",
      "\n",
      "Response:\n",
      "\n",
      "[[ ## reasoning ## ]]\n",
      "用户支付成功购买了糖果，库存信息需要更新。\n",
      "\n",
      "[[ ## updated_inventory ## ]]\n",
      "{'饮料': {'price': 5, 'stock': 10}, '小吃': {'price': 10, 'stock': 5}, '糖果': {'price': 3, 'stock': 19}}\n",
      "\n",
      "[[ ## stock_status ## ]]\n",
      "库存更新成功\n",
      "\n",
      "[[ ## completed ## ]]\n",
      "\n",
      "\n",
      "\n",
      "\n",
      "\n",
      "None\n",
      "\n",
      "欢迎光临，请选择商品：\n",
      "饮料 - 5元 (库存: 10)\n",
      "小吃 - 10元 (库存: 5)\n",
      "糖果 - 3元 (库存: 19)\n",
      "输入 'q' 退出购物\n"
     ]
    }
   ],
   "source": [
    "# 主程序\n",
    "\n",
    "# 主程序逻辑\n",
    "def main():\n",
    "    vending_machine = VendingMachineRolePlay()\n",
    "    vending_machine.select_product = optimized_select_product\n",
    "    vending_machine.process_payment = optimized_process_payment\n",
    "    vending_machine.check_inventory = optimized_check_inventory\n",
    "    while True:\n",
    "        print(\"\\n欢迎光临，请选择商品：\")\n",
    "        \n",
    "        available_products = vending_machine.inventory\n",
    "        available_products_info = \"\\n\".join([f\"{product} - {info['price']}元 (库存: {info['stock']})\"\n",
    "                                               for product, info in available_products.items()])\n",
    "\n",
    "        print(available_products_info)\n",
    "        print(\"输入 'q' 退出购物\")\n",
    "\n",
    "        product_number = input(\"请输入商品编号：\")\n",
    "        if product_number.lower() == 'q':\n",
    "            print(\"感谢光临！再见！\")\n",
    "            break\n",
    "        \n",
    "        result = vending_machine(product_number=product_number)\n",
    "\n",
    "        print(\"选择的商品:\", result.selected_product)\n",
    "        print(\"支付状态:\", result.payment_status)\n",
    "        \n",
    "        if result.payment_status == \"请支付相应金额\":\n",
    "            payment_amount = input(f\"请输入支付的金额 ({result.product_price}元)：\")\n",
    "            payment_result = vending_machine(product_number=product_number, payment_amount=payment_amount)\n",
    "\n",
    "            print(\"支付状态:\", payment_result.payment_status)\n",
    "            print(\"库存更新状态:\", payment_result.stock_status)\n",
    "            if payment_result.payment_status == \"支付成功\":\n",
    "                print(\"请取走您的商品。谢谢光临！\")\n",
    "            elif payment_result.payment_status == \"商品缺货\":\n",
    "                print(\"商品缺货，请选择其他商品。\")\n",
    "            elif payment_result.payment_status == \"支付失败\":\n",
    "                print(\"支付失败，请重试。\")\n",
    "        print(lm.inspect_history(n=3))\n",
    "\n",
    "if __name__ == \"__main__\":\n",
    "    main()"
   ]
  },
  {
   "cell_type": "code",
   "execution_count": null,
   "id": "3693d6ad-11ed-43d7-97d3-b762c47722d9",
   "metadata": {},
   "outputs": [],
   "source": []
  },
  {
   "cell_type": "code",
   "execution_count": null,
   "id": "7664b66e-b0a6-4ad1-b3a5-e6288a96337d",
   "metadata": {},
   "outputs": [],
   "source": []
  }
 ],
 "metadata": {
  "kernelspec": {
   "display_name": "Python 3 (ipykernel)",
   "language": "python",
   "name": "python3"
  },
  "language_info": {
   "codemirror_mode": {
    "name": "ipython",
    "version": 3
   },
   "file_extension": ".py",
   "mimetype": "text/x-python",
   "name": "python",
   "nbconvert_exporter": "python",
   "pygments_lexer": "ipython3",
   "version": "3.12.3"
  }
 },
 "nbformat": 4,
 "nbformat_minor": 5
}
